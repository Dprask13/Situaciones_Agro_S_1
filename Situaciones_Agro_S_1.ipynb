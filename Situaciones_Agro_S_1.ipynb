{
  "nbformat": 4,
  "nbformat_minor": 0,
  "metadata": {
    "colab": {
      "provenance": [],
      "toc_visible": true,
      "authorship_tag": "ABX9TyMaeb5yCD2y2Xs85bvg+uWT",
      "include_colab_link": true
    },
    "kernelspec": {
      "name": "python3",
      "display_name": "Python 3"
    },
    "language_info": {
      "name": "python"
    }
  },
  "cells": [
    {
      "cell_type": "markdown",
      "metadata": {
        "id": "view-in-github",
        "colab_type": "text"
      },
      "source": [
        "<a href=\"https://colab.research.google.com/github/Dprask13/Situaciones_Agro_S_1/blob/main/Situaciones_Agro_S_1.ipynb\" target=\"_parent\"><img src=\"https://colab.research.google.com/assets/colab-badge.svg\" alt=\"Open In Colab\"/></a>"
      ]
    },
    {
      "cell_type": "markdown",
      "source": [
        "# 1. Situación de ingeniería agricola\n",
        "\n",
        "Un agricultor necesita saber cuántos kilogramos\n",
        "de semilla de maíz debe comprar para sembrar un lote rectangular. Conoce la densidad de siembra\n",
        "recomendada (kg por hectárea) y las dimensiones del lote (largo y ancho en metros)"
      ],
      "metadata": {
        "id": "ZADpU8CGrmmW"
      }
    },
    {
      "cell_type": "code",
      "execution_count": 2,
      "metadata": {
        "colab": {
          "base_uri": "https://localhost:8080/"
        },
        "id": "tfugWXk1rjgE",
        "outputId": "32ea61ef-9fe4-4d1d-ba80-daf1f16b4180"
      },
      "outputs": [
        {
          "name": "stdout",
          "output_type": "stream",
          "text": [
            "Bienvenido al programa de cálculo de densidad de siembra\n",
            "Ingrese el largo del lote en metros: 25\n"
          ]
        }
      ],
      "source": [
        "# 1. Saludar al usuario y explicar qué hace el programa.\n",
        "print(\"Bienvenido al programa de cálculo de densidad de siembra\")\n",
        "\n",
        "# 2. Pedir al usuario que ingrese el largo del lote en metros (input sin convertir).\n",
        "largo = input(\"Ingrese el largo del lote en metros: \")\n",
        "\n",
        "# 3. Pedir el ancho del lote en metros (input sin conversión float).\n",
        "ancho = input(\"Ingrese el ancho del lote en metros: \")\n",
        "\n",
        "# 4. Pedir al usuario que ingrese la densidad recomendada de siembra en kilogramos por hectárea.\n",
        "densidad = input(\"Ingrese la densidad recomendada de siembra en kilogramos por hectárea: \")\n",
        "\n",
        "# 5. Convertir las entradas de texto a números decimales (float).\n",
        "largo = float(largo)\n",
        "ancho = float(ancho)\n",
        "densidad = float(densidad)\n",
        "\n",
        "# 6. Calcular el área en metros cuadrados (largo * ancho).\n",
        "area = largo * ancho\n",
        "\n",
        "# 7. Calcular la densidad recomendada de siembra en kilogramos por hectárea (densidad * área).\n",
        "densidad_recomendada = densidad * area\n",
        "\n",
        "# 8. Mostrar el resultado al usuario.\n",
        "print(f\"La densidad recomendada de siembra es:\", densidad_recomendada, \"kilogramos por hectárea.\")"
      ]
    },
    {
      "cell_type": "markdown",
      "metadata": {
        "id": "0497ea44"
      },
      "source": [
        "Aquí tienes la explicación línea por línea del código:"
      ]
    },
    {
      "cell_type": "code",
      "metadata": {
        "id": "13070ffc"
      },
      "source": [
        "# 2. Pedir al usuario que ingrese el largo del lote en metros (input sin convertir).\n",
        "largo = input(\"Ingrese el largo del lote en metros: \")"
      ],
      "execution_count": null,
      "outputs": []
    },
    {
      "cell_type": "code",
      "metadata": {
        "id": "1ae09582"
      },
      "source": [
        "# 3. Pedir el ancho del lote en metros (input sin conversión float).\n",
        "ancho = input(\"Ingrese el ancho del lote en metros: \")"
      ],
      "execution_count": null,
      "outputs": []
    },
    {
      "cell_type": "code",
      "metadata": {
        "id": "18d2638e"
      },
      "source": [
        "# 4. Pedir al usuario que ingrese la densidad recomendada de siembra en kilogramos por hectárea.\n",
        "densidad = input(\"Ingrese la densidad recomendada de siembra en kilogramos por hectárea: \")"
      ],
      "execution_count": null,
      "outputs": []
    },
    {
      "cell_type": "code",
      "metadata": {
        "id": "a0595e36"
      },
      "source": [
        "# 5. Convertir las entradas de texto a números decimales (float).\n",
        "largo = float(largo)\n",
        "ancho = float(ancho)\n",
        "densidad = float(densidad)"
      ],
      "execution_count": null,
      "outputs": []
    },
    {
      "cell_type": "code",
      "metadata": {
        "id": "706d5552"
      },
      "source": [
        "# 6. Calcular el área en metros cuadrados (largo * ancho).\n",
        "area = largo * ancho"
      ],
      "execution_count": null,
      "outputs": []
    },
    {
      "cell_type": "code",
      "metadata": {
        "id": "09cd6966"
      },
      "source": [
        "# 7. Calcular la densidad recomendada de siembra en kilogramos por hectárea (densidad * área).\n",
        "densidad_recomendada = densidad * area"
      ],
      "execution_count": null,
      "outputs": []
    },
    {
      "cell_type": "code",
      "metadata": {
        "id": "07fb1b8f"
      },
      "source": [
        "# 8. Mostrar el resultado al usuario.\n",
        "print(f\"La densidad recomendada de siembra es:\", densidad_recomendada, \"kilogramos por hectárea.\")"
      ],
      "execution_count": null,
      "outputs": []
    },
    {
      "cell_type": "markdown",
      "source": [
        " # 2. Situación de Interés en Ingeniería Agroindustrial :\n",
        " En una planta de procesamiento de mango,\n",
        "se quiere calcular el rendimiento de un lote de fruta. Se necesita un programa simple que tome el\n",
        "peso inicial de los mangos antes de pelarlos y deshuesarlos, y el peso final de la pulpa obtenida, para\n",
        "expresar el rendimiento como un porcentaje."
      ],
      "metadata": {
        "id": "0gNhEl4-1fqi"
      }
    },
    {
      "cell_type": "code",
      "source": [
        "# 1. Explicar el propósito de la calculadora.\n",
        "print(\"Bienvenido a la calculadora de rendimiento de mangos\")\n",
        "\n",
        "# 2. Pedir el peso inicial del lote de mangos en kg (input).\n",
        "peso_inicial = input(\"Ingrese el peso inicial del lote de mangos en kg: \")\n",
        "\n",
        "# 3. Pedir el peso final de la pulpa de la fruta en kg (input).\n",
        "peso_final = input(\"Ingrese el peso final de la pulpa de la fruta en kg: \")\n",
        "\n",
        "# 4. Convertir las entradas de texto a números decimales (float).\n",
        "peso_inicial = float(peso_inicial)\n",
        "peso_final = float(peso_final)\n",
        "\n",
        "# 5. Calcular el rendimiento como un porcentaje (peso_final / peso_inicial * 100).\n",
        "rendimiento = (peso_final / peso_inicial) * 100\n",
        "\n",
        "# 6. Mostrar el resultado del rendimiento, formateado como porcentaje.\n",
        "print(f\"El rendimiento del lote de mangos es: {rendimiento:.2f}%\")"
      ],
      "metadata": {
        "id": "0rUCzQUd2Z-M"
      },
      "execution_count": null,
      "outputs": []
    },
    {
      "cell_type": "markdown",
      "metadata": {
        "id": "d12e41ce"
      },
      "source": [
        "Aquí tienes la explicación línea por línea del primer código:\n",
        "\n",
        "1.  `print(\"Bienvenido al programa de cálculo de densidad de siembra\")`: Esta línea muestra un mensaje de bienvenida al usuario para informarle de qué trata el programa.\n",
        "2.  `largo = input(\"Ingrese el largo del lote en metros: \")`: Esta línea le pide al usuario que ingrese el largo del lote en metros y almacena la entrada (que es texto) en la variable `largo`.\n",
        "3.  `ancho = input(\"Ingrese el ancho del lote en metros: \")`: Similar a la anterior, esta línea pide el ancho del lote en metros y lo guarda en la variable `ancho` como texto.\n",
        "4.  `densidad = input(\"Ingrese la densidad recomendada de siembra en kilogramos por hectárea: \")`: Esta línea solicita la densidad recomendada de siembra en kilogramos por hectárea y la guarda como texto en la variable `densidad`.\n",
        "5.  `largo = float(largo)`: Convierte el texto almacenado en la variable `largo` a un número decimal (float) para poder realizar cálculos con él.\n",
        "6.  `ancho = float(ancho)`: Convierte el texto almacenado en la variable `ancho` a un número decimal (float).\n",
        "7.  `densidad = float(densidad)`: Convierte el texto almacenado en la variable `densidad` a un número decimal (float).\n",
        "8.  `area = largo * ancho`: Calcula el área del lote multiplicando el largo por el ancho y guarda el resultado en la variable `area`. El área estará en metros cuadrados.\n",
        "9.  `densidad_recomendada = densidad * area`: **¡Nota importante!** Aquí hay un posible error lógico si se pretende calcular la cantidad total de semilla necesaria. Tal como está, está multiplicando la densidad (kg/ha) por el área en metros cuadrados, lo que no da un resultado útil en kg. Para obtener los kilogramos de semilla necesarios, primero deberías convertir el área de metros cuadrados a hectáreas (dividiendo por 10,000) y luego multiplicarla por la densidad. La línea correcta para calcular los kilogramos de semilla necesarios sería: `kilogramos_semilla = (area / 10000) * densidad`.\n",
        "10. `print(f\"La densidad recomendada de siembra es:\", densidad_recomendada, \"kilogramos por hectárea.\")`: Esta línea muestra el resultado al usuario. **¡Nota importante!** Debido al posible error en el cálculo de la línea anterior, el valor mostrado aquí no representa la cantidad total de semilla en kilogramos para el lote completo, sino un valor incorrecto. También, la frase \"kilogramos por hectárea\" es confusa aquí ya que el cálculo anterior no resultó en una densidad por hectárea, sino en el producto de densidad por hectárea y área en metros cuadrados. La salida debería indicar los \"kilogramos de semilla necesarios para el lote\".\n",
        "\n",
        "Espero que esta explicación detallada te sea útil. ¡Avísame si tienes más preguntas!"
      ]
    },
    {
      "cell_type": "markdown",
      "source": [
        "\n",
        "#3. Situación de Interés en Ingeniería Civil :\n",
        "\n",
        "\n",
        "Un ingeniero residente de obra necesita calcular\n",
        "rápidamente el volumen de concreto necesario para vaciar una losa de piso rectangular simple. Debe\n",
        "poder ingresar el largo, el ancho y el espesor de la losa para obtener el volumen en metros cúbicos."
      ],
      "metadata": {
        "id": "yw4DlPE35WNs"
      }
    },
    {
      "cell_type": "code",
      "source": [
        "# 1. Presentar la herramienta al usuario.\n",
        "print(\"Bienvenido a la herramienta de cálculo de volumen de concreto\")\n",
        "\n",
        "# 2. Solicitar el largo, ancho y espesor de la losa, todos en metros (input).\n",
        "largo = input(\"Ingrese el largo de la losa en metros: \")\n",
        "ancho = input(\"Ingrese el ancho de la losa en metros: \")\n",
        "espesor = input(\"Ingrese el espesor de la losa en metros: \")\n",
        "\n",
        "# 3. Convertir todas las entradas a números decimales (float).\n",
        "largo = float(largo)\n",
        "ancho = float(ancho)\n",
        "espesor = float(espesor)\n",
        "\n",
        "# 4. Calcular el volumen multiplicando las tres dimensiones.\n",
        "volumen = largo * ancho * espesor\n",
        "\n",
        "# 5. Presentar el volumen calculado en metros cúbicos.\n",
        "print(f\"El volumen de concreto necesario es: {volumen:.2f} m³\")"
      ],
      "metadata": {
        "id": "Mife3oLA5hhj"
      },
      "execution_count": null,
      "outputs": []
    },
    {
      "cell_type": "markdown",
      "metadata": {
        "id": "4e263044"
      },
      "source": [
        "Aquí tienes la explicación línea por línea del código para calcular el volumen de concreto:\n",
        "\n",
        "1.  `print(\"Bienvenido a la herramienta de cálculo de volumen de concreto\")`: Esta línea muestra un mensaje de bienvenida al usuario, indicando el propósito del programa.\n",
        "2.  `largo = input(\"Ingrese el largo de la losa en metros: \")`: Solicita al usuario que ingrese el largo de la losa en metros y almacena la entrada como texto en la variable `largo`.\n",
        "3.  `ancho = input(\"Ingrese el ancho de la losa en metros: \")`: Pide al usuario que ingrese el ancho de la losa en metros y guarda la entrada como texto en la variable `ancho`.\n",
        "4.  `espesor = input(\"Ingrese el espesor de la losa en metros: \")`: Solicita al usuario que ingrese el espesor de la losa en metros y almacena la entrada como texto en la variable `espesor`.\n",
        "5.  `largo = float(largo)`: Convierte el texto almacenado en `largo` a un número decimal (float) para poder realizar cálculos.\n",
        "6.  `ancho = float(ancho)`: Convierte el texto almacenado en `ancho` a un número decimal (float).\n",
        "7.  `espesor = float(espesor)`: Convierte el texto almacenado en `espesor` a un número decimal (float).\n",
        "8.  `volumen = largo * ancho * espesor`: Calcula el volumen multiplicando el largo, ancho y espesor, y guarda el resultado en la variable `volumen`. El resultado estará en metros cúbicos.\n",
        "9.  `print(f\"El volumen de concreto necesario es: {volumen:.2f} m³\")`: Muestra el resultado al usuario. Utiliza un f-string para incluir el valor de `volumen` directamente en la cadena. `{volumen:.2f}` formatea el número `volumen` para que muestre solo dos decimales, y `m³` se añade para indicar las unidades."
      ]
    }
  ]
}